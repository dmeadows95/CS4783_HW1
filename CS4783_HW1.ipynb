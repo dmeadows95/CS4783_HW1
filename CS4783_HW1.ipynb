{
  "nbformat": 4,
  "nbformat_minor": 0,
  "metadata": {
    "colab": {
      "provenance": [],
      "authorship_tag": "ABX9TyN9PwoEbSDr5hbR4SJjHB7b",
      "include_colab_link": true
    },
    "kernelspec": {
      "name": "python3",
      "display_name": "Python 3"
    },
    "language_info": {
      "name": "python"
    }
  },
  "cells": [
    {
      "cell_type": "markdown",
      "metadata": {
        "id": "view-in-github",
        "colab_type": "text"
      },
      "source": [
        "<a href=\"https://colab.research.google.com/github/dmeadows95/CS4783_HW1/blob/main/CS4783_HW1.ipynb\" target=\"_parent\"><img src=\"https://colab.research.google.com/assets/colab-badge.svg\" alt=\"Open In Colab\"/></a>"
      ]
    },
    {
      "cell_type": "code",
      "source": [
        "# Damon Meadows\n",
        "# CS 4783\n",
        "# Last modified: 9-16-22\n",
        "# Question 1\n",
        "\n",
        "import numpy as np\n",
        "import matplotlib as mpl\n",
        "import matplotlib.pyplot as plt\n",
        "\n",
        "# load training data\n",
        "x_train = np.load(\"x_train.npy\")\n",
        "y_train = np.load(\"y_train.npy\")\n",
        "\n",
        "# add column of 1s in training data for bias term\n",
        "x_train = np.append(x_train, np.ones((100,1)), axis = 1)\n",
        "\n",
        "# reshape y training data to accomodate bias term in x\n",
        "y_train = y_train.reshape(100,1)\n",
        "\n",
        "# load testing data\n",
        "x_test = np.load(\"x_test.npy\")\n",
        "y_test = np.load(\"y_test.npy\")\n",
        "\n",
        "# add column of 1s in testing data for bias term\n",
        "x_test = np.append(x_test, np.ones((100,1)), axis = 1)\n",
        "\n",
        "# use normal equations to derive value of theta\n",
        "theta = np.linalg.inv(x_train.T.dot(x_train)).dot(x_train.T).dot(y_train)\n",
        "\n",
        "y_prediction = x_test.dot(theta)\n",
        "\n",
        "\n",
        "print(\"Question 1.1)\")\n",
        "# Plotting the predictions.\n",
        "fig = plt.figure(figsize=(8,6))\n",
        "plt.plot(x_train, y_train, 'b.')\n",
        "plt.plot(x_test, y_prediction, 'c-')\n",
        "plt.xlabel('X - Input')\n",
        "plt.ylabel('y - Output')"
      ],
      "metadata": {
        "id": "p-8B28XtYw3R",
        "colab": {
          "base_uri": "https://localhost:8080/",
          "height": 423
        },
        "outputId": "ad7fb0d3-94e5-4101-d06c-84069e854e34"
      },
      "execution_count": 22,
      "outputs": [
        {
          "output_type": "stream",
          "name": "stdout",
          "text": [
            "Question 1.2.a)\n"
          ]
        },
        {
          "output_type": "execute_result",
          "data": {
            "text/plain": [
              "Text(0, 0.5, 'y - Output')"
            ]
          },
          "metadata": {},
          "execution_count": 22
        },
        {
          "output_type": "display_data",
          "data": {
            "text/plain": [
              "<Figure size 576x432 with 1 Axes>"
            ],
            "image/png": "[encoded data removed]"
          },
          "metadata": {
            "needs_background": "light"
          }
        }
      ]
    },
    {
      "cell_type": "markdown",
      "source": [
        "Question 1.2.a)\n",
        "  The relationship is not linear\n",
        "\n",
        "Question 1.2.b) \n",
        "  Because the relationship is non linear, feature engineering would be helpful to more closely match the data"
      ],
      "metadata": {
        "id": "RdWXLzsXWXfT"
      }
    },
    {
      "cell_type": "code",
      "source": [
        " # Damon Meadows\n",
        "# CS 4783\n",
        "# Last modified: 9-16-22\n",
        "# Question 2 \n",
        "\n",
        "import numpy as np\n",
        "import matplotlib as mpl\n",
        "import matplotlib.pyplot as plt\n",
        "from numpy import genfromtxt\n",
        "\n",
        "# read information from file\n",
        "input = genfromtxt('Assignment1_Q2_Data.csv', delimiter=',', skip_header = 1)\n",
        "\n",
        "# truncate first and last column, first is just id and last is output\n",
        "data = input[:,1:-1]\n",
        "# use last column of input to create output array\n",
        "house_price = input[:,-1]\n",
        "# truncate array for each individual feature\n",
        "local_price = input[:,1]\n",
        "bathrooms = input[:,2]\n",
        "land_area = input[:,3]\n",
        "living_area = input[:,4]\n",
        "garages = input[:,5]\n",
        "rooms = input[:,6]\n",
        "bedrooms = input[:,7]\n",
        "age = input[:,8]\n",
        "construction = input[:,9]\n",
        "architecture = input[:,10]\n",
        "fireplace = input[:,11]\n",
        "\n",
        "# function to use normal equations to obtain theta\n",
        "def get_theta (x_data, y_data):\n",
        "\n",
        "  num_examples = x_data.shape[0]\n",
        "\n",
        "# add column of 1s in training data for bias term\n",
        " # x_data = np.append(x_data, np.ones((num_examples,1)), axis = 1)\n",
        "\n",
        "# reshape y training data to accomodate bias term in x\n",
        "  y_data = y_data.reshape(num_examples,1)\n",
        "\n",
        "# use normal equations to derive value of theta\n",
        "  theta = np.dot(np.linalg.inv(np.dot(x_data.T, x_data)), np.dot(x_data.T, y_data))\n",
        "\n",
        "  return theta\n",
        "\n",
        "# function to use theta to make prediction\n",
        "def get_prediction (x_data, y_data):\n",
        "    \n",
        "    m = x_data.shape[0]\n",
        "    x_data = np.append(x_data, np.ones((m,1)), axis=1)\n",
        "    theta = get_theta(x_data, y_data)\n",
        "    y_prediction = np.dot(x_data, theta)\n",
        "\n",
        "    return y_prediction\n",
        "\n",
        "predictions = []\n",
        "\n",
        "def get_error(x_data, y_data):\n",
        "# initialize i and error for use in loop\n",
        "  i = 0\n",
        "  error = 0\n",
        "# obtain array of predictions\n",
        "  predictions = get_prediction(x_data, y_data)\n",
        "\n",
        "# while loop to total up square error for each prediction\n",
        "  while i < 28:\n",
        "    error += ((house_price[i] - predictions[i])**2) / 28\n",
        "    i += 1\n",
        "\n",
        "  return error\n",
        "\n",
        "# compute average square error\n",
        "print(\"average square error:\",get_error(data, house_price))\n",
        "\n",
        "# TODO: resolve compilation error\n",
        "# feature specific square error computations:\n",
        "\n",
        "#print(\"local price square error:\",get_error(local_price, house_price))\n",
        "#print(\"bathrooms square error:\",get_error(bathrooms, house_price))\n",
        "#print(\"land area square error:\",get_error(land_area, house_price))\n",
        "#print(\"living area square error:\",get_error(living_area, house_price))\n",
        "#print(\"garages square error:\",get_error(garages, house_price))\n",
        "#print(\"rooms square error:\",get_error(rooms, house_price))\n",
        "#print(\"bedrooms square error:\",get_error(bedrooms, house_price))\n",
        "#print(\"age square error:\",get_error(age, house_price))\n",
        "#print(\"construction square error:\",get_error(construction, house_price))\n",
        "#print(\"architecture square error:\",get_error(architecture, house_price))\n",
        "#print(\"fireplace square error:\",get_error(fireplace, house_price))"
      ],
      "metadata": {
        "colab": {
          "base_uri": "https://localhost:8080/"
        },
        "id": "LAhuCwH1WX0g",
        "outputId": "dd03efdd-bc18-4749-f85c-944b0da7625c"
      },
      "execution_count": 80,
      "outputs": [
        {
          "output_type": "stream",
          "name": "stdout",
          "text": [
            "average square error: [9.3168112]\n"
          ]
        }
      ]
    },
    {
      "cell_type": "markdown",
      "source": [
        "Question 2.1) The average square error for my simple regression model is ~9.32\n",
        "\n",
        "Question 2.2) My strategy for determining which feature had the greatest effect on the final value was to isolate each one and run error calculations. Unfortunately, I am getting an axis out of bounds error for these isolated calculations that I have been unable to resolve so I cannot determine conclusively which factor most contributes to the average square error.\n",
        "\n",
        "Question 2.3) My strategy for determining which feature had the least effect on the final value was to isolate each one and run error calculations. Unfortunately, I am getting an axis out of bounds error for these isolated calculations that I have been unable to resolve so I cannot determine conclusively which factor least contributes to the average square error."
      ],
      "metadata": {
        "id": "lrhG844vwhDY"
      }
    },
    {
      "cell_type": "code",
      "source": [
        "from pyparsing import java_style_comment\n",
        "# Damon Meadows\n",
        "# CS 4783\n",
        "# Last modified: 9-16-22\n",
        "# Question 3\n",
        "\n",
        "# load training data\n",
        "x_train = np.load(\"x_train.npy\")\n",
        "y_train = np.load(\"y_train.npy\")\n",
        "\n",
        "# load testing data\n",
        "x_test = np.load(\"x_test.npy\")\n",
        "y_test = np.load(\"y_test.npy\")\n",
        "\n",
        "\n",
        "def weight_matrix(point, training_data, tau): \n",
        "    \n",
        "  # tau is our bandwidth\n",
        "  # training_data is our Training data.\n",
        "  # point is the x where we want to make the prediction.\n",
        "    \n",
        "  # number of training examples\n",
        "    num_examples = training_data.shape[0] \n",
        "    \n",
        "  # initialize W as an identity matrix.\n",
        "    w = np.mat(np.eye(num_examples)) \n",
        "    \n",
        "  # calculate weights for all training examples [x(i)'s].\n",
        "    for i in range(num_examples): \n",
        "        xi = training_data[i] \n",
        "        j = (-2 * tau * tau) \n",
        "        w[i, i] = np.exp(np.dot((xi-point), (xi-point).T)/j) \n",
        "        \n",
        "    return w\n",
        "\n",
        "\n",
        "# function to obtain theta and make prediction\n",
        "def get_prediction (input_data, output_data, point):\n",
        "\n",
        "# number training examples\n",
        "  num_examples = input_data.shape[0]\n",
        "\n",
        "# add column of ones in input_data to add the bias term.\n",
        "  data = np.append(input_data, np.ones(num_examples).reshape(num_examples,1), axis=1)\n",
        "\n",
        "# point where we want to make locally weighted prediction\n",
        "  predict_point = np.array([point, 1])\n",
        "\n",
        "# calculate weight matrix for predict_point\n",
        "  w = weight_matrix(predict_point, input_data, .08)\n",
        "\n",
        "\n",
        "# calculate theta\n",
        "  theta = np.linalg.inv(data.T*(w * data)) * (data.T * w * output_data)\n",
        "\n",
        "  y_prediction = input_data.dot(predict_point,theta)\n",
        "\n",
        "  return y_prediction\n",
        "\n",
        "# initialize predictions array\n",
        "predictions = []\n",
        "\n",
        "# append specific predictions\n",
        "for point in x_test:\n",
        "  this_prediction = get_prediction(x_train, y_train, point)\n",
        "  predictions.append[this_prediction]\n",
        "\n"
      ],
      "metadata": {
        "colab": {
          "base_uri": "https://localhost:8080/",
          "height": 539
        },
        "id": "PvoInMeIZYdL",
        "outputId": "e5c76dd8-f7f8-4fc4-b9e6-1d05d2b05f46"
      },
      "execution_count": 96,
      "outputs": [
        {
          "output_type": "stream",
          "name": "stdout",
          "text": [
            "(2, 2)\n",
            "(2, 100)\n",
            "(100, 100)\n",
            "(100,)\n",
            "(2, 100)\n"
          ]
        },
        {
          "output_type": "stream",
          "name": "stderr",
          "text": [
            "/usr/local/lib/python3.7/dist-packages/ipykernel_launcher.py:47: VisibleDeprecationWarning: Creating an ndarray from ragged nested sequences (which is a list-or-tuple of lists-or-tuples-or ndarrays with different lengths or shapes) is deprecated. If you meant to do this, you must specify 'dtype=object' when creating the ndarray.\n"
          ]
        },
        {
          "output_type": "error",
          "ename": "ValueError",
          "evalue": "ignored",
          "traceback": [
            "\u001b[0;31m---------------------------------------------------------------------------\u001b[0m",
            "\u001b[0;31mValueError\u001b[0m                                Traceback (most recent call last)",
            "\u001b[0;32m<ipython-input-96-c10a595bf858>\u001b[0m in \u001b[0;36m<module>\u001b[0;34m\u001b[0m\n\u001b[1;32m     70\u001b[0m \u001b[0;34m\u001b[0m\u001b[0m\n\u001b[1;32m     71\u001b[0m \u001b[0;32mfor\u001b[0m \u001b[0mpoint\u001b[0m \u001b[0;32min\u001b[0m \u001b[0mx_test\u001b[0m\u001b[0;34m:\u001b[0m\u001b[0;34m\u001b[0m\u001b[0;34m\u001b[0m\u001b[0m\n\u001b[0;32m---> 72\u001b[0;31m   \u001b[0mthis_prediction\u001b[0m \u001b[0;34m=\u001b[0m \u001b[0mget_prediction\u001b[0m\u001b[0;34m(\u001b[0m\u001b[0mx_train\u001b[0m\u001b[0;34m,\u001b[0m \u001b[0my_train\u001b[0m\u001b[0;34m,\u001b[0m \u001b[0mpoint\u001b[0m\u001b[0;34m)\u001b[0m\u001b[0;34m\u001b[0m\u001b[0;34m\u001b[0m\u001b[0m\n\u001b[0m\u001b[1;32m     73\u001b[0m   \u001b[0mpredictions\u001b[0m\u001b[0;34m.\u001b[0m\u001b[0mappend\u001b[0m\u001b[0;34m[\u001b[0m\u001b[0mthis_prediction\u001b[0m\u001b[0;34m]\u001b[0m\u001b[0;34m\u001b[0m\u001b[0;34m\u001b[0m\u001b[0m\n\u001b[1;32m     74\u001b[0m \u001b[0;34m\u001b[0m\u001b[0m\n",
            "\u001b[0;32m<ipython-input-96-c10a595bf858>\u001b[0m in \u001b[0;36mget_prediction\u001b[0;34m(input_data, output_data, point)\u001b[0m\n\u001b[1;32m     61\u001b[0m   \u001b[0mprint\u001b[0m\u001b[0;34m(\u001b[0m\u001b[0ms\u001b[0m\u001b[0;34m.\u001b[0m\u001b[0mshape\u001b[0m\u001b[0;34m)\u001b[0m\u001b[0;34m\u001b[0m\u001b[0;34m\u001b[0m\u001b[0m\n\u001b[1;32m     62\u001b[0m \u001b[0;34m\u001b[0m\u001b[0m\n\u001b[0;32m---> 63\u001b[0;31m   \u001b[0mtheta\u001b[0m \u001b[0;34m=\u001b[0m \u001b[0mnp\u001b[0m\u001b[0;34m.\u001b[0m\u001b[0mlinalg\u001b[0m\u001b[0;34m.\u001b[0m\u001b[0minv\u001b[0m\u001b[0;34m(\u001b[0m\u001b[0mdata\u001b[0m\u001b[0;34m.\u001b[0m\u001b[0mT\u001b[0m\u001b[0;34m*\u001b[0m\u001b[0;34m(\u001b[0m\u001b[0mw\u001b[0m \u001b[0;34m*\u001b[0m \u001b[0mdata\u001b[0m\u001b[0;34m)\u001b[0m\u001b[0;34m)\u001b[0m \u001b[0;34m*\u001b[0m \u001b[0;34m(\u001b[0m\u001b[0mdata\u001b[0m\u001b[0;34m.\u001b[0m\u001b[0mT\u001b[0m \u001b[0;34m*\u001b[0m \u001b[0mw\u001b[0m \u001b[0;34m*\u001b[0m \u001b[0moutput_data\u001b[0m\u001b[0;34m)\u001b[0m\u001b[0;34m\u001b[0m\u001b[0;34m\u001b[0m\u001b[0m\n\u001b[0m\u001b[1;32m     64\u001b[0m \u001b[0;34m\u001b[0m\u001b[0m\n\u001b[1;32m     65\u001b[0m   \u001b[0my_prediction\u001b[0m \u001b[0;34m=\u001b[0m \u001b[0minput_data\u001b[0m\u001b[0;34m.\u001b[0m\u001b[0mdot\u001b[0m\u001b[0;34m(\u001b[0m\u001b[0mpredict_point\u001b[0m\u001b[0;34m,\u001b[0m\u001b[0mtheta\u001b[0m\u001b[0;34m)\u001b[0m\u001b[0;34m\u001b[0m\u001b[0;34m\u001b[0m\u001b[0m\n",
            "\u001b[0;32m/usr/local/lib/python3.7/dist-packages/numpy/matrixlib/defmatrix.py\u001b[0m in \u001b[0;36m__mul__\u001b[0;34m(self, other)\u001b[0m\n\u001b[1;32m    216\u001b[0m         \u001b[0;32mif\u001b[0m \u001b[0misinstance\u001b[0m\u001b[0;34m(\u001b[0m\u001b[0mother\u001b[0m\u001b[0;34m,\u001b[0m \u001b[0;34m(\u001b[0m\u001b[0mN\u001b[0m\u001b[0;34m.\u001b[0m\u001b[0mndarray\u001b[0m\u001b[0;34m,\u001b[0m \u001b[0mlist\u001b[0m\u001b[0;34m,\u001b[0m \u001b[0mtuple\u001b[0m\u001b[0;34m)\u001b[0m\u001b[0;34m)\u001b[0m \u001b[0;34m:\u001b[0m\u001b[0;34m\u001b[0m\u001b[0;34m\u001b[0m\u001b[0m\n\u001b[1;32m    217\u001b[0m             \u001b[0;31m# This promotes 1-D vectors to row vectors\u001b[0m\u001b[0;34m\u001b[0m\u001b[0;34m\u001b[0m\u001b[0;34m\u001b[0m\u001b[0m\n\u001b[0;32m--> 218\u001b[0;31m             \u001b[0;32mreturn\u001b[0m \u001b[0mN\u001b[0m\u001b[0;34m.\u001b[0m\u001b[0mdot\u001b[0m\u001b[0;34m(\u001b[0m\u001b[0mself\u001b[0m\u001b[0;34m,\u001b[0m \u001b[0masmatrix\u001b[0m\u001b[0;34m(\u001b[0m\u001b[0mother\u001b[0m\u001b[0;34m)\u001b[0m\u001b[0;34m)\u001b[0m\u001b[0;34m\u001b[0m\u001b[0;34m\u001b[0m\u001b[0m\n\u001b[0m\u001b[1;32m    219\u001b[0m         \u001b[0;32mif\u001b[0m \u001b[0misscalar\u001b[0m\u001b[0;34m(\u001b[0m\u001b[0mother\u001b[0m\u001b[0;34m)\u001b[0m \u001b[0;32mor\u001b[0m \u001b[0;32mnot\u001b[0m \u001b[0mhasattr\u001b[0m\u001b[0;34m(\u001b[0m\u001b[0mother\u001b[0m\u001b[0;34m,\u001b[0m \u001b[0;34m'__rmul__'\u001b[0m\u001b[0;34m)\u001b[0m \u001b[0;34m:\u001b[0m\u001b[0;34m\u001b[0m\u001b[0;34m\u001b[0m\u001b[0m\n\u001b[1;32m    220\u001b[0m             \u001b[0;32mreturn\u001b[0m \u001b[0mN\u001b[0m\u001b[0;34m.\u001b[0m\u001b[0mdot\u001b[0m\u001b[0;34m(\u001b[0m\u001b[0mself\u001b[0m\u001b[0;34m,\u001b[0m \u001b[0mother\u001b[0m\u001b[0;34m)\u001b[0m\u001b[0;34m\u001b[0m\u001b[0;34m\u001b[0m\u001b[0m\n",
            "\u001b[0;32m<__array_function__ internals>\u001b[0m in \u001b[0;36mdot\u001b[0;34m(*args, **kwargs)\u001b[0m\n",
            "\u001b[0;31mValueError\u001b[0m: shapes (2,100) and (1,100) not aligned: 100 (dim 1) != 1 (dim 0)"
          ]
        }
      ]
    },
    {
      "cell_type": "markdown",
      "source": [
        "Question 3.1) basis functions are not necessary for a locally weighted approach, the local weightings accomodate non-linearities in the data\n",
        "\n",
        "Question 3.2) the difference between this and question 1 is that this approach applies a weight matrix that causes predictions at any given point to be more heavily influenced by points closer to them than those farther from them. The approach in question 1 determined a simple line where each data point evenly affected all others."
      ],
      "metadata": {
        "id": "UMGrLxuz6a3M"
      }
    }
  ]
}